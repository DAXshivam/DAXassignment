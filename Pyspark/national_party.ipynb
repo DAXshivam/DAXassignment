{
  "cells": [
    {
      "cell_type": "code",
      "execution_count": 1,
      "metadata": {
        "id": "oZfTxAlA0tLw"
      },
      "outputs": [],
      "source": [
        "import numpy as np  "
      ]
    },
    {
      "cell_type": "code",
      "execution_count": 2,
      "metadata": {
        "id": "pGFLkFGz0tL3"
      },
      "outputs": [],
      "source": [
        "import pandas as pd"
      ]
    },
    {
      "cell_type": "code",
      "source": [
        "pip install pyspark"
      ],
      "metadata": {
        "colab": {
          "base_uri": "https://localhost:8080/"
        },
        "id": "_mcCoCrV1AXE",
        "outputId": "6f3db0d9-cdcb-4436-8740-d4bd5f672a75"
      },
      "execution_count": 4,
      "outputs": [
        {
          "output_type": "stream",
          "name": "stdout",
          "text": [
            "Looking in indexes: https://pypi.org/simple, https://us-python.pkg.dev/colab-wheels/public/simple/\n",
            "Collecting pyspark\n",
            "  Downloading pyspark-3.3.0.tar.gz (281.3 MB)\n",
            "\u001b[K     |████████████████████████████████| 281.3 MB 46 kB/s \n",
            "\u001b[?25hCollecting py4j==0.10.9.5\n",
            "  Downloading py4j-0.10.9.5-py2.py3-none-any.whl (199 kB)\n",
            "\u001b[K     |████████████████████████████████| 199 kB 52.9 MB/s \n",
            "\u001b[?25hBuilding wheels for collected packages: pyspark\n",
            "  Building wheel for pyspark (setup.py) ... \u001b[?25l\u001b[?25hdone\n",
            "  Created wheel for pyspark: filename=pyspark-3.3.0-py2.py3-none-any.whl size=281764026 sha256=824b1ab7bc69b003a94a3dfad1cf610313f8c1fe97690e7f6124f8c91fd6d499\n",
            "  Stored in directory: /root/.cache/pip/wheels/7a/8e/1b/f73a52650d2e5f337708d9f6a1750d451a7349a867f928b885\n",
            "Successfully built pyspark\n",
            "Installing collected packages: py4j, pyspark\n",
            "Successfully installed py4j-0.10.9.5 pyspark-3.3.0\n"
          ]
        }
      ]
    },
    {
      "cell_type": "code",
      "execution_count": 5,
      "metadata": {
        "id": "fq7rvh8s0tL4"
      },
      "outputs": [],
      "source": [
        "import pyspark"
      ]
    },
    {
      "cell_type": "code",
      "execution_count": 6,
      "metadata": {
        "id": "6q7CRDJM0tL5"
      },
      "outputs": [],
      "source": [
        "from pyspark.sql import SparkSession"
      ]
    },
    {
      "cell_type": "code",
      "execution_count": 7,
      "metadata": {
        "id": "8HXJYxBC0tL5"
      },
      "outputs": [],
      "source": [
        "spark = SparkSession.builder.getOrCreate()"
      ]
    },
    {
      "cell_type": "code",
      "execution_count": 8,
      "metadata": {
        "id": "mCNHoRtM0tL6"
      },
      "outputs": [],
      "source": [
        "data = spark.read.json('donation_np.json').limit(100)"
      ]
    },
    {
      "cell_type": "code",
      "execution_count": 9,
      "metadata": {
        "colab": {
          "base_uri": "https://localhost:8080/"
        },
        "id": "qd2PCQff0tL6",
        "outputId": "750e482c-85ca-4bdc-c696-ee50ac471a39"
      },
      "outputs": [
        {
          "output_type": "stream",
          "name": "stdout",
          "text": [
            "root\n",
            " |-- Address: string (nullable = true)\n",
            " |-- Amount: string (nullable = true)\n",
            " |-- Contribution Mode: string (nullable = true)\n",
            " |-- Financial Year: string (nullable = true)\n",
            " |-- Name: string (nullable = true)\n",
            " |-- PAN Given: string (nullable = true)\n",
            " |-- Party: string (nullable = true)\n",
            " |-- Type: string (nullable = true)\n",
            " |-- _corrupt_record: string (nullable = true)\n",
            " |-- field10: string (nullable = true)\n",
            " |-- field11: string (nullable = true)\n",
            " |-- field12: string (nullable = true)\n",
            " |-- field13: string (nullable = true)\n",
            " |-- field14: string (nullable = true)\n",
            " |-- field9: string (nullable = true)\n",
            "\n"
          ]
        }
      ],
      "source": [
        "data.printSchema()"
      ]
    },
    {
      "cell_type": "code",
      "execution_count": 10,
      "metadata": {
        "id": "UjfNkgEy0tL8"
      },
      "outputs": [],
      "source": [
        "data = data.withColumnRenamed('Contribution Mode','mode_of_payment')"
      ]
    },
    {
      "cell_type": "code",
      "execution_count": 11,
      "metadata": {
        "id": "hkUyWQrk0tL9"
      },
      "outputs": [],
      "source": [
        "data = data.withColumnRenamed('Financial Year','fin_year')"
      ]
    },
    {
      "cell_type": "code",
      "execution_count": 12,
      "metadata": {
        "id": "15dndFq70tL-"
      },
      "outputs": [],
      "source": [
        "data = data.withColumnRenamed('PAN Given','pan_given')"
      ]
    },
    {
      "cell_type": "code",
      "execution_count": 13,
      "metadata": {
        "colab": {
          "base_uri": "https://localhost:8080/"
        },
        "id": "949VLiOq0tL_",
        "outputId": "9817e1a4-e798-4234-8ec7-87b7bc3ec6d7"
      },
      "outputs": [
        {
          "output_type": "execute_result",
          "data": {
            "text/plain": [
              "['Address',\n",
              " 'Amount',\n",
              " 'mode_of_payment',\n",
              " 'fin_year',\n",
              " 'Name',\n",
              " 'pan_given',\n",
              " 'Party',\n",
              " 'Type',\n",
              " '_corrupt_record',\n",
              " 'field10',\n",
              " 'field11',\n",
              " 'field12',\n",
              " 'field13',\n",
              " 'field14',\n",
              " 'field9']"
            ]
          },
          "metadata": {},
          "execution_count": 13
        }
      ],
      "source": [
        "data.columns"
      ]
    },
    {
      "cell_type": "code",
      "execution_count": 14,
      "metadata": {
        "id": "dLpoU5Jn0tMA"
      },
      "outputs": [],
      "source": [
        "from pyspark.sql.functions import col\n",
        "data = data.where(col(\"Amount\").isNotNull())"
      ]
    },
    {
      "cell_type": "code",
      "execution_count": 15,
      "metadata": {
        "colab": {
          "base_uri": "https://localhost:8080/"
        },
        "id": "kijVAKie0tMB",
        "outputId": "2da81372-427f-4458-d7b9-16ac0ad84fe2"
      },
      "outputs": [
        {
          "output_type": "execute_result",
          "data": {
            "text/plain": [
              "pyspark.sql.dataframe.DataFrame"
            ]
          },
          "metadata": {},
          "execution_count": 15
        }
      ],
      "source": [
        "type(data)"
      ]
    },
    {
      "cell_type": "code",
      "execution_count": 16,
      "metadata": {
        "id": "1wdEQopS0tMB"
      },
      "outputs": [],
      "source": [
        "from pyspark.sql.functions import *\n",
        "# data = data.withColumn(\"Address\", hash(\"Address\"))"
      ]
    },
    {
      "cell_type": "code",
      "execution_count": 17,
      "metadata": {
        "id": "EPrGY6Kx0tMC"
      },
      "outputs": [],
      "source": [
        "data = data.withColumn('Address',md5(col('Address')))"
      ]
    },
    {
      "cell_type": "code",
      "execution_count": 18,
      "metadata": {
        "colab": {
          "base_uri": "https://localhost:8080/"
        },
        "id": "ES-MZ7H00tMC",
        "outputId": "61985a68-51f6-4243-cbb3-aac5e24f5ec1"
      },
      "outputs": [
        {
          "output_type": "stream",
          "name": "stdout",
          "text": [
            "+--------------------+\n",
            "|             Address|\n",
            "+--------------------+\n",
            "|44bca5383d6dae229...|\n",
            "|3d5fc135c2defdd47...|\n",
            "|425cb8edfacd38d97...|\n",
            "|39532b270ae265a0e...|\n",
            "|e5eaf382bb92f67dd...|\n",
            "|aebd8d41127096039...|\n",
            "|a6bdeec2ba637e946...|\n",
            "|cfab1ba8c67c7c838...|\n",
            "|5ccb472bc1ee506b7...|\n",
            "|58c899d47e71fefc0...|\n",
            "+--------------------+\n",
            "only showing top 10 rows\n",
            "\n"
          ]
        }
      ],
      "source": [
        "data.select(\"Address\").show(10)"
      ]
    },
    {
      "cell_type": "code",
      "execution_count": 19,
      "metadata": {
        "colab": {
          "base_uri": "https://localhost:8080/"
        },
        "id": "G0dU3yWC0tMC",
        "outputId": "a98cebed-2bd9-4b70-f537-4124c1b96eee"
      },
      "outputs": [
        {
          "output_type": "stream",
          "name": "stdout",
          "text": [
            "+--------------------+\n",
            "|     mode_of_payment|\n",
            "+--------------------+\n",
            "|                CASH|\n",
            "|000037, HDFC Bank...|\n",
            "|Cheque, State Ban...|\n",
            "|Through Bank Tran...|\n",
            "|Through Bank Tran...|\n",
            "|          146865 SBI|\n",
            "|          994966 SBI|\n",
            "|14021,  Union Ban...|\n",
            "|          168278 SBI|\n",
            "|       Bank Transfer|\n",
            "+--------------------+\n",
            "only showing top 10 rows\n",
            "\n"
          ]
        }
      ],
      "source": [
        "data.select(\"mode_of_payment\").show(10)"
      ]
    },
    {
      "cell_type": "code",
      "execution_count": 20,
      "metadata": {
        "id": "R9hLGsLV0tMD"
      },
      "outputs": [],
      "source": [
        "from pyspark.sql.functions import when"
      ]
    },
    {
      "cell_type": "code",
      "execution_count": 21,
      "metadata": {
        "id": "TAEV9Num0tMD"
      },
      "outputs": [],
      "source": [
        "data = data.withColumn(\"mode_of_payment\",when(lower(col(\"mode_of_payment\")).contains(\"cash\"),\"Cash\").when(lower(col(\"mode_of_payment\")).contains(\"cheque\"),\"Cheque\").when(lower(col(\"mode_of_payment\")).contains(\"bank\"),\"Bank\").otherwise(\"Others\"))"
      ]
    },
    {
      "cell_type": "code",
      "execution_count": 22,
      "metadata": {
        "colab": {
          "base_uri": "https://localhost:8080/"
        },
        "id": "RWDR1Y9-0tME",
        "outputId": "babcebb0-948b-406e-ddba-76f0cf381259"
      },
      "outputs": [
        {
          "output_type": "stream",
          "name": "stdout",
          "text": [
            "+---------------+\n",
            "|mode_of_payment|\n",
            "+---------------+\n",
            "|           Cash|\n",
            "|           Bank|\n",
            "|         Cheque|\n",
            "|           Bank|\n",
            "|           Bank|\n",
            "|         Others|\n",
            "|         Others|\n",
            "|           Bank|\n",
            "|         Others|\n",
            "|           Bank|\n",
            "|           Bank|\n",
            "|         Others|\n",
            "|         Cheque|\n",
            "|         Cheque|\n",
            "|         Cheque|\n",
            "|           Bank|\n",
            "|           Bank|\n",
            "|           Bank|\n",
            "|         Others|\n",
            "|           Bank|\n",
            "|           Bank|\n",
            "|           Bank|\n",
            "|         Cheque|\n",
            "|           Bank|\n",
            "|           Bank|\n",
            "|           Bank|\n",
            "|         Others|\n",
            "|           Cash|\n",
            "|           Bank|\n",
            "|           Bank|\n",
            "|           Bank|\n",
            "|           Bank|\n",
            "|           Bank|\n",
            "|           Bank|\n",
            "|           Bank|\n",
            "|           Bank|\n",
            "|           Bank|\n",
            "|         Others|\n",
            "|           Bank|\n",
            "|           Bank|\n",
            "|         Others|\n",
            "|         Others|\n",
            "|           Bank|\n",
            "|           Bank|\n",
            "|         Others|\n",
            "|           Cash|\n",
            "|           Cash|\n",
            "|           Cash|\n",
            "|           Cash|\n",
            "|           Cash|\n",
            "|           Cash|\n",
            "|           Cash|\n",
            "|           Cash|\n",
            "|           Cash|\n",
            "|           Cash|\n",
            "|         Cheque|\n",
            "|           Cash|\n",
            "|         Others|\n",
            "|         Others|\n",
            "|           Cash|\n",
            "|           Cash|\n",
            "|         Cheque|\n",
            "|           Cash|\n",
            "|           Cash|\n",
            "|           Cash|\n",
            "|         Cheque|\n",
            "|           Cash|\n",
            "|           Cash|\n",
            "|           Cash|\n",
            "|           Cash|\n",
            "|           Cash|\n",
            "|           Cash|\n",
            "|           Cash|\n",
            "|           Cash|\n",
            "|           Cash|\n",
            "|           Cash|\n",
            "|           Cash|\n",
            "|         Cheque|\n",
            "|           Cash|\n",
            "|           Cash|\n",
            "|         Cheque|\n",
            "|         Cheque|\n",
            "|           Cash|\n",
            "|           Bank|\n",
            "|         Others|\n",
            "|           Cash|\n",
            "|         Cheque|\n",
            "|         Cheque|\n",
            "|         Cheque|\n",
            "|           Bank|\n",
            "|         Others|\n",
            "|         Others|\n",
            "|           Bank|\n",
            "|           Bank|\n",
            "|           Bank|\n",
            "|         Others|\n",
            "|         Others|\n",
            "|           Bank|\n",
            "+---------------+\n",
            "\n"
          ]
        }
      ],
      "source": [
        "data.select(\"mode_of_payment\").show(100)"
      ]
    },
    {
      "cell_type": "code",
      "execution_count": 23,
      "metadata": {
        "id": "kNa7JUEO0tMF"
      },
      "outputs": [],
      "source": [
        "data=data.drop('_corrupt_record','field10','field11','field12','field13','field14','field9')"
      ]
    },
    {
      "cell_type": "code",
      "execution_count": 24,
      "metadata": {
        "id": "QbKPG3Vg0tMG"
      },
      "outputs": [],
      "source": [
        "from pyspark.sql.types import IntegerType"
      ]
    },
    {
      "cell_type": "code",
      "execution_count": 25,
      "metadata": {
        "id": "V9zLjDHi0tMG"
      },
      "outputs": [],
      "source": [
        "data = data.withColumn(\"Amount\",data[\"Amount\"].cast(IntegerType()))"
      ]
    },
    {
      "cell_type": "code",
      "execution_count": 26,
      "metadata": {
        "id": "s90J0Z4s0tMG"
      },
      "outputs": [],
      "source": [
        "grouped_data = data.groupBy(\"Party\").sum(\"Amount\")"
      ]
    },
    {
      "cell_type": "code",
      "execution_count": 27,
      "metadata": {
        "id": "2iMmdcu50tMH"
      },
      "outputs": [],
      "source": [
        "for k in grouped_data.collect():\n",
        "    party,amount = k[\"Party\"],k[\"sum(Amount)\"]\n",
        "    data = data.withColumn(party+\"_SUM_LTD\",when(data.Party.contains(party),amount).otherwise(0))"
      ]
    },
    {
      "cell_type": "code",
      "execution_count": 28,
      "metadata": {
        "colab": {
          "base_uri": "https://localhost:8080/"
        },
        "id": "3aU3pZ6P0tMH",
        "outputId": "66a1a583-52d6-41a4-a2e5-1fe17851509f"
      },
      "outputs": [
        {
          "output_type": "stream",
          "name": "stdout",
          "text": [
            "+-----------+\n",
            "|BJP_SUM_LTD|\n",
            "+-----------+\n",
            "|          0|\n",
            "|          0|\n",
            "|          0|\n",
            "|          0|\n",
            "|          0|\n",
            "|   12602000|\n",
            "|   12602000|\n",
            "|   12602000|\n",
            "|   12602000|\n",
            "|          0|\n",
            "|   12602000|\n",
            "|   12602000|\n",
            "|   12602000|\n",
            "|   12602000|\n",
            "|   12602000|\n",
            "|   12602000|\n",
            "|   12602000|\n",
            "|   12602000|\n",
            "|   12602000|\n",
            "|          0|\n",
            "+-----------+\n",
            "only showing top 20 rows\n",
            "\n"
          ]
        }
      ],
      "source": [
        "data.select(\"BJP_SUM_LTD\").show()"
      ]
    },
    {
      "cell_type": "code",
      "execution_count": 29,
      "metadata": {
        "colab": {
          "base_uri": "https://localhost:8080/"
        },
        "id": "lD7wfew-0tMH",
        "outputId": "2a4e291c-be48-41bb-a5a2-89a5b708c6ac"
      },
      "outputs": [
        {
          "output_type": "stream",
          "name": "stdout",
          "text": [
            "+-----------+\n",
            "|CPI_SUM_LTD|\n",
            "+-----------+\n",
            "|   15374024|\n",
            "|   15374024|\n",
            "|          0|\n",
            "|          0|\n",
            "|          0|\n",
            "|          0|\n",
            "|          0|\n",
            "|          0|\n",
            "|          0|\n",
            "|          0|\n",
            "|          0|\n",
            "|          0|\n",
            "|          0|\n",
            "|          0|\n",
            "|          0|\n",
            "|          0|\n",
            "|          0|\n",
            "|          0|\n",
            "|          0|\n",
            "|          0|\n",
            "+-----------+\n",
            "only showing top 20 rows\n",
            "\n"
          ]
        }
      ],
      "source": [
        "data.select(\"CPI_SUM_LTD\").show()"
      ]
    },
    {
      "cell_type": "code",
      "execution_count": 30,
      "metadata": {
        "colab": {
          "base_uri": "https://localhost:8080/"
        },
        "id": "8b_QGQHY0tMH",
        "outputId": "c01b0cdf-bab1-4462-d135-bfdb9e66f51c"
      },
      "outputs": [
        {
          "output_type": "execute_result",
          "data": {
            "text/plain": [
              "[3000000, 10000000, 108000, 8400000]"
            ]
          },
          "metadata": {},
          "execution_count": 30
        }
      ],
      "source": [
        "[d[0] for d in data.groupBy(\"Party\").agg(max(\"Amount\")).select(\"max(Amount)\").collect()]"
      ]
    },
    {
      "cell_type": "code",
      "execution_count": 31,
      "metadata": {
        "id": "2B_KnJ5i0tMI"
      },
      "outputs": [],
      "source": [
        "max_donors = data[data.Amount.isin([d[0] for d in data.groupBy(\"Party\").agg(max(\"Amount\")).select(\"max(Amount)\").collect()])].select(\"Name\",\"Party\")"
      ]
    },
    {
      "cell_type": "code",
      "execution_count": 32,
      "metadata": {
        "colab": {
          "base_uri": "https://localhost:8080/",
          "height": 35
        },
        "id": "OwrHxCze0tMI",
        "outputId": "f9926689-9c82-4e44-8e57-0fb00733b158"
      },
      "outputs": [
        {
          "output_type": "execute_result",
          "data": {
            "text/plain": [
              "'Aziz Pasha'"
            ],
            "application/vnd.google.colaboratory.intrinsic+json": {
              "type": "string"
            }
          },
          "metadata": {},
          "execution_count": 32
        }
      ],
      "source": [
        "max_donors.collect()[0][\"Name\"]"
      ]
    },
    {
      "cell_type": "code",
      "execution_count": 33,
      "metadata": {
        "id": "eaiz6NkG0tMI"
      },
      "outputs": [],
      "source": [
        "for m in max_donors.collect():\n",
        "\n",
        "    data = data.withColumn(m[\"Party\"]+\"_TOP_DONOR\",when(col(\"Party\").contains(m[\"Party\"]),m[\"Name\"]).otherwise(\"---\"))"
      ]
    },
    {
      "cell_type": "code",
      "execution_count": 34,
      "metadata": {
        "colab": {
          "base_uri": "https://localhost:8080/"
        },
        "id": "48eQ-h3R0tMI",
        "outputId": "de67e360-d913-4fc5-fc91-42ac861bed4f"
      },
      "outputs": [
        {
          "output_type": "execute_result",
          "data": {
            "text/plain": [
              "['Address',\n",
              " 'Amount',\n",
              " 'mode_of_payment',\n",
              " 'fin_year',\n",
              " 'Name',\n",
              " 'pan_given',\n",
              " 'Party',\n",
              " 'Type',\n",
              " 'CPI_SUM_LTD',\n",
              " 'CPI(M)_SUM_LTD',\n",
              " 'INC_SUM_LTD',\n",
              " 'BJP_SUM_LTD',\n",
              " 'CPI_TOP_DONOR',\n",
              " 'CPI(M)_TOP_DONOR',\n",
              " 'INC_TOP_DONOR',\n",
              " 'BJP_TOP_DONOR']"
            ]
          },
          "metadata": {},
          "execution_count": 34
        }
      ],
      "source": [
        "data.columns"
      ]
    },
    {
      "cell_type": "code",
      "execution_count": 35,
      "metadata": {
        "colab": {
          "base_uri": "https://localhost:8080/"
        },
        "id": "2WMX8-Gm0tMJ",
        "outputId": "a380a879-5607-4095-ec3e-5455e39a34c9"
      },
      "outputs": [
        {
          "output_type": "stream",
          "name": "stdout",
          "text": [
            "+-------------+\n",
            "|CPI_TOP_DONOR|\n",
            "+-------------+\n",
            "|   Aziz Pasha|\n",
            "|   Aziz Pasha|\n",
            "|          ---|\n",
            "|          ---|\n",
            "|          ---|\n",
            "|          ---|\n",
            "|          ---|\n",
            "|          ---|\n",
            "|          ---|\n",
            "|          ---|\n",
            "|          ---|\n",
            "|          ---|\n",
            "|          ---|\n",
            "|          ---|\n",
            "|          ---|\n",
            "|          ---|\n",
            "|          ---|\n",
            "|          ---|\n",
            "|          ---|\n",
            "|          ---|\n",
            "+-------------+\n",
            "only showing top 20 rows\n",
            "\n"
          ]
        }
      ],
      "source": [
        "data.select(\"CPI_TOP_DONOR\").show()\n",
        "    "
      ]
    },
    {
      "cell_type": "code",
      "execution_count": 36,
      "metadata": {
        "id": "yXgKZ2VN0tMJ"
      },
      "outputs": [],
      "source": [
        "per_fin_year = data.groupBy(\"Party\",\"fin_year\").sum(\"Amount\").collect()"
      ]
    },
    {
      "cell_type": "code",
      "execution_count": 37,
      "metadata": {
        "colab": {
          "base_uri": "https://localhost:8080/"
        },
        "id": "qkcAy9d00tMJ",
        "outputId": "17c56a5e-f31a-4491-f017-2834d858bc5b"
      },
      "outputs": [
        {
          "output_type": "execute_result",
          "data": {
            "text/plain": [
              "Row(Party='CPI', fin_year='2010-11', sum(Amount)=5240000)"
            ]
          },
          "metadata": {},
          "execution_count": 37
        }
      ],
      "source": [
        "per_fin_year[0]"
      ]
    },
    {
      "cell_type": "code",
      "execution_count": 38,
      "metadata": {
        "id": "-si9B4r30tMJ"
      },
      "outputs": [],
      "source": [
        "for p in per_fin_year:\n",
        "    data = data.withColumn(p[\"fin_year\"]+\"_\"+p[\"Party\"]+\"_SUM\",when(col(\"fin_year\").contains(p[\"fin_year\"]) & col(\"Party\").contains(p[\"Party\"]),lit(p[\"sum(Amount)\"])).otherwise(\"---\"))"
      ]
    },
    {
      "cell_type": "code",
      "execution_count": 39,
      "metadata": {
        "colab": {
          "base_uri": "https://localhost:8080/"
        },
        "id": "AnUyQB820tMJ",
        "outputId": "5d0e098e-c000-4ef2-f96e-dde6c1528d0b"
      },
      "outputs": [
        {
          "output_type": "stream",
          "name": "stdout",
          "text": [
            "+---------------+\n",
            "|2011-12_BJP_SUM|\n",
            "+---------------+\n",
            "|            ---|\n",
            "|            ---|\n",
            "|            ---|\n",
            "|            ---|\n",
            "|            ---|\n",
            "|        1000000|\n",
            "|        1000000|\n",
            "|            ---|\n",
            "|        1000000|\n",
            "|            ---|\n",
            "|            ---|\n",
            "|            ---|\n",
            "|            ---|\n",
            "|            ---|\n",
            "|            ---|\n",
            "|            ---|\n",
            "|        1000000|\n",
            "|            ---|\n",
            "|            ---|\n",
            "|            ---|\n",
            "+---------------+\n",
            "only showing top 20 rows\n",
            "\n"
          ]
        }
      ],
      "source": [
        "data.select(\"2011-12_BJP_SUM\").show()"
      ]
    },
    {
      "cell_type": "code",
      "execution_count": 40,
      "metadata": {
        "colab": {
          "base_uri": "https://localhost:8080/"
        },
        "id": "5dy2BhCS0tMK",
        "outputId": "c0894239-92f9-4495-f207-6508b78e1340"
      },
      "outputs": [
        {
          "output_type": "stream",
          "name": "stdout",
          "text": [
            "+---------------+\n",
            "|mode_of_payment|\n",
            "+---------------+\n",
            "|           Cash|\n",
            "|           Bank|\n",
            "|         Cheque|\n",
            "|           Bank|\n",
            "|           Bank|\n",
            "|         Others|\n",
            "|         Others|\n",
            "|           Bank|\n",
            "|         Others|\n",
            "|           Bank|\n",
            "|           Bank|\n",
            "|         Others|\n",
            "|         Cheque|\n",
            "|         Cheque|\n",
            "|         Cheque|\n",
            "|           Bank|\n",
            "|           Bank|\n",
            "|           Bank|\n",
            "|         Others|\n",
            "|           Bank|\n",
            "+---------------+\n",
            "only showing top 20 rows\n",
            "\n"
          ]
        }
      ],
      "source": [
        "data.select(\"mode_of_payment\").show()"
      ]
    },
    {
      "cell_type": "code",
      "execution_count": 41,
      "metadata": {
        "colab": {
          "base_uri": "https://localhost:8080/"
        },
        "id": "6-IBfjxT0tMK",
        "outputId": "07ea8b31-9be7-4c93-e337-2dcaa946b14c"
      },
      "outputs": [
        {
          "output_type": "execute_result",
          "data": {
            "text/plain": [
              "[Row(mode_of_payment='Cash', count=33),\n",
              " Row(mode_of_payment='Bank', count=34),\n",
              " Row(mode_of_payment='Cheque', count=14),\n",
              " Row(mode_of_payment='Others', count=17)]"
            ]
          },
          "metadata": {},
          "execution_count": 41
        }
      ],
      "source": [
        "data.groupBy(\"mode_of_payment\").count().collect()"
      ]
    },
    {
      "cell_type": "code",
      "execution_count": 42,
      "metadata": {
        "id": "Yn31K1dq0tMK"
      },
      "outputs": [],
      "source": [
        "for d in data.groupBy(\"mode_of_payment\").count().collect():\n",
        "    data = data.withColumn(d[\"mode_of_payment\"]+\"_count_LTD\",when(col(\"mode_of_payment\").contains(d[\"mode_of_payment\"]),lit(d[\"count\"])).otherwise(\"---\"))"
      ]
    },
    {
      "cell_type": "code",
      "execution_count": 43,
      "metadata": {
        "colab": {
          "base_uri": "https://localhost:8080/"
        },
        "id": "M5bw4cB00tMK",
        "outputId": "f329b5eb-bbc7-4ff4-bb21-cd47a3c34cf3"
      },
      "outputs": [
        {
          "output_type": "stream",
          "name": "stdout",
          "text": [
            "+--------------+\n",
            "|Bank_count_LTD|\n",
            "+--------------+\n",
            "|           ---|\n",
            "|            34|\n",
            "|           ---|\n",
            "|            34|\n",
            "|            34|\n",
            "|           ---|\n",
            "|           ---|\n",
            "|            34|\n",
            "|           ---|\n",
            "|            34|\n",
            "|            34|\n",
            "|           ---|\n",
            "|           ---|\n",
            "|           ---|\n",
            "|           ---|\n",
            "|            34|\n",
            "|            34|\n",
            "|            34|\n",
            "|           ---|\n",
            "|            34|\n",
            "+--------------+\n",
            "only showing top 20 rows\n",
            "\n"
          ]
        }
      ],
      "source": [
        "data.select(\"Bank_count_LTD\").show()"
      ]
    },
    {
      "cell_type": "code",
      "execution_count": 44,
      "metadata": {
        "id": "dV3TZm3I0tMK"
      },
      "outputs": [],
      "source": [
        "for d in data.groupBy(\"Party\").count().collect():\n",
        "    data = data.withColumn(d[\"Party\"]+\"_COUNT_LTD\",when(col(\"Party\").contains(d[\"Party\"]),d[\"count\"]).otherwise(0))"
      ]
    },
    {
      "cell_type": "code",
      "execution_count": 45,
      "metadata": {
        "colab": {
          "base_uri": "https://localhost:8080/"
        },
        "id": "wxxheffq0tML",
        "outputId": "a2fa219e-3aaa-46cb-d306-f01086470a8e"
      },
      "outputs": [
        {
          "output_type": "stream",
          "name": "stdout",
          "text": [
            "+-------------+\n",
            "|BJP_COUNT_LTD|\n",
            "+-------------+\n",
            "|            0|\n",
            "|            0|\n",
            "|            0|\n",
            "|            0|\n",
            "|            0|\n",
            "|           28|\n",
            "|           28|\n",
            "|           28|\n",
            "|           28|\n",
            "|            0|\n",
            "|           28|\n",
            "|           28|\n",
            "|           28|\n",
            "|           28|\n",
            "|           28|\n",
            "|           28|\n",
            "|           28|\n",
            "|           28|\n",
            "|           28|\n",
            "|            0|\n",
            "+-------------+\n",
            "only showing top 20 rows\n",
            "\n"
          ]
        }
      ],
      "source": [
        "data.select(\"BJP_COUNT_LTD\").show()"
      ]
    },
    {
      "cell_type": "code",
      "execution_count": 46,
      "metadata": {
        "colab": {
          "base_uri": "https://localhost:8080/"
        },
        "id": "fHQ-s6oj0tML",
        "outputId": "a1d69d1f-d0ed-4916-d92d-bd65ab687f30"
      },
      "outputs": [
        {
          "output_type": "execute_result",
          "data": {
            "text/plain": [
              "DataFrame[Party: string, avg(Amount): double]"
            ]
          },
          "metadata": {},
          "execution_count": 46
        }
      ],
      "source": [
        "data.groupBy(\"Party\").avg(\"Amount\")"
      ]
    },
    {
      "cell_type": "code",
      "execution_count": 47,
      "metadata": {
        "id": "MlGE2s1J0tML"
      },
      "outputs": [],
      "source": [
        "for d in data.groupBy(\"Party\").avg(\"Amount\").collect():\n",
        "    data = data.withColumn(d[\"Party\"]+\"_AVG_LTD\",when(col(\"Party\").contains(d[\"Party\"]),d[\"avg(Amount)\"]).otherwise(0))"
      ]
    },
    {
      "cell_type": "code",
      "execution_count": 48,
      "metadata": {
        "colab": {
          "base_uri": "https://localhost:8080/"
        },
        "id": "EgsvauKG0tML",
        "outputId": "746755fc-1105-4171-c615-6cdea27e3b87"
      },
      "outputs": [
        {
          "output_type": "stream",
          "name": "stdout",
          "text": [
            "+------------------+\n",
            "|       INC_AVG_LTD|\n",
            "+------------------+\n",
            "|               0.0|\n",
            "|               0.0|\n",
            "|50318.181818181816|\n",
            "|50318.181818181816|\n",
            "|50318.181818181816|\n",
            "|               0.0|\n",
            "|               0.0|\n",
            "|               0.0|\n",
            "|               0.0|\n",
            "|50318.181818181816|\n",
            "|               0.0|\n",
            "|               0.0|\n",
            "|               0.0|\n",
            "|               0.0|\n",
            "|               0.0|\n",
            "|               0.0|\n",
            "|               0.0|\n",
            "|               0.0|\n",
            "|               0.0|\n",
            "|50318.181818181816|\n",
            "+------------------+\n",
            "only showing top 20 rows\n",
            "\n"
          ]
        }
      ],
      "source": [
        "data.select(\"INC_AVG_LTD\").show()"
      ]
    },
    {
      "cell_type": "code",
      "execution_count": 49,
      "metadata": {
        "colab": {
          "base_uri": "https://localhost:8080/"
        },
        "id": "uUM37FHI0tML",
        "outputId": "6c554542-9391-4ced-b181-9a77757cf932"
      },
      "outputs": [
        {
          "output_type": "stream",
          "name": "stdout",
          "text": [
            "+------+-----------+\n",
            "| Party|max(Amount)|\n",
            "+------+-----------+\n",
            "|   CPI|    3000000|\n",
            "|CPI(M)|   10000000|\n",
            "|   INC|     108000|\n",
            "|   BJP|    8400000|\n",
            "+------+-----------+\n",
            "\n"
          ]
        }
      ],
      "source": [
        "data.groupBy(\"Party\").max(\"Amount\").show()"
      ]
    },
    {
      "cell_type": "code",
      "execution_count": 50,
      "metadata": {
        "id": "uZ9wWGXA0tML"
      },
      "outputs": [],
      "source": [
        "for d in data.groupBy(\"Party\").max(\"Amount\").collect():\n",
        "    data = data.withColumn(d[\"Party\"]+\"_MAX_LTD\",when(col(\"Party\").contains(d[\"Party\"]),d[\"max(Amount)\"]).otherwise(0))"
      ]
    },
    {
      "cell_type": "code",
      "execution_count": 51,
      "metadata": {
        "colab": {
          "base_uri": "https://localhost:8080/"
        },
        "id": "qgH6XcFE0tMM",
        "outputId": "ba500db9-2e16-4aff-dfb1-495585e23d08"
      },
      "outputs": [
        {
          "output_type": "stream",
          "name": "stdout",
          "text": [
            "+-----------+\n",
            "|INC_MAX_LTD|\n",
            "+-----------+\n",
            "|          0|\n",
            "|          0|\n",
            "|     108000|\n",
            "|     108000|\n",
            "|     108000|\n",
            "|          0|\n",
            "|          0|\n",
            "|          0|\n",
            "|          0|\n",
            "|     108000|\n",
            "|          0|\n",
            "|          0|\n",
            "|          0|\n",
            "|          0|\n",
            "|          0|\n",
            "|          0|\n",
            "|          0|\n",
            "|          0|\n",
            "|          0|\n",
            "|     108000|\n",
            "+-----------+\n",
            "only showing top 20 rows\n",
            "\n"
          ]
        }
      ],
      "source": [
        "data.select(\"INC_MAX_LTD\").show()"
      ]
    },
    {
      "cell_type": "code",
      "execution_count": 52,
      "metadata": {
        "colab": {
          "base_uri": "https://localhost:8080/"
        },
        "id": "EeQi13oy0tMM",
        "outputId": "e1922cc7-0524-4b7a-e975-0ac417099153"
      },
      "outputs": [
        {
          "output_type": "stream",
          "name": "stdout",
          "text": [
            "+---------------+--------+------+\n",
            "|2011-12_INC_SUM|fin_year| Party|\n",
            "+---------------+--------+------+\n",
            "|            ---| 2010-11|   CPI|\n",
            "|            ---| 2014-15|CPI(M)|\n",
            "|            ---| 2014-15|   INC|\n",
            "|         162000| 2011-12|   INC|\n",
            "|         162000| 2011-12|   INC|\n",
            "|            ---| 2011-12|   BJP|\n",
            "|            ---| 2011-12|   BJP|\n",
            "|            ---| 2013-14|   BJP|\n",
            "|            ---| 2011-12|   BJP|\n",
            "|            ---| 2013-14|   INC|\n",
            "|            ---| 2004-05|   BJP|\n",
            "|            ---| 2012-13|   BJP|\n",
            "|            ---| 2008-09|   BJP|\n",
            "|            ---| 2008-09|   BJP|\n",
            "|            ---| 2008-09|   BJP|\n",
            "|            ---| 2012-13|   BJP|\n",
            "|            ---| 2011-12|   BJP|\n",
            "|            ---| 2014-15|   BJP|\n",
            "|            ---| 2012-13|   BJP|\n",
            "|            ---| 2009-10|   INC|\n",
            "+---------------+--------+------+\n",
            "only showing top 20 rows\n",
            "\n"
          ]
        }
      ],
      "source": [
        "data.select(\"2011-12_INC_SUM\",\"fin_year\",\"Party\").show()"
      ]
    },
    {
      "cell_type": "code",
      "execution_count": 53,
      "metadata": {
        "colab": {
          "base_uri": "https://localhost:8080/"
        },
        "id": "zXBV0dDB0tMM",
        "outputId": "c5a8625e-fd38-4f6b-aeb9-4013501f2558"
      },
      "outputs": [
        {
          "output_type": "stream",
          "name": "stdout",
          "text": [
            "+--------------+\n",
            "|Bank_count_LTD|\n",
            "+--------------+\n",
            "|           ---|\n",
            "|            34|\n",
            "|           ---|\n",
            "|            34|\n",
            "|            34|\n",
            "|           ---|\n",
            "|           ---|\n",
            "|            34|\n",
            "|           ---|\n",
            "|            34|\n",
            "|            34|\n",
            "|           ---|\n",
            "|           ---|\n",
            "|           ---|\n",
            "|           ---|\n",
            "|            34|\n",
            "|            34|\n",
            "|            34|\n",
            "|           ---|\n",
            "|            34|\n",
            "+--------------+\n",
            "only showing top 20 rows\n",
            "\n"
          ]
        }
      ],
      "source": [
        "data.select(\"Bank_count_LTD\").show()"
      ]
    },
    {
      "cell_type": "code",
      "execution_count": 54,
      "metadata": {
        "colab": {
          "base_uri": "https://localhost:8080/"
        },
        "id": "hk3CsHg_0tMM",
        "outputId": "ec366405-40d8-4a15-a164-75f422790f46"
      },
      "outputs": [
        {
          "output_type": "execute_result",
          "data": {
            "text/plain": [
              "Row(Address='44bca5383d6dae229cb7c43cd52d4bb1', Amount=3000000, mode_of_payment='Cash', fin_year='2010-11', Name='Aziz Pasha', pan_given='Y', Party='CPI', Type='Others', CPI_SUM_LTD=15374024, CPI(M)_SUM_LTD=0, INC_SUM_LTD=0, BJP_SUM_LTD=0, CPI_TOP_DONOR='Aziz Pasha', CPI(M)_TOP_DONOR='---', INC_TOP_DONOR='---', BJP_TOP_DONOR='---', 2010-11_CPI_SUM='5240000', 2014-15_CPI(M)_SUM='---', 2014-15_INC_SUM='---', 2011-12_INC_SUM='---', 2011-12_BJP_SUM='---', 2013-14_BJP_SUM='---', 2013-14_INC_SUM='---', 2004-05_BJP_SUM='---', 2012-13_BJP_SUM='---', 2008-09_BJP_SUM='---', 2014-15_BJP_SUM='---', 2009-10_INC_SUM='---', 2009-10_CPI_SUM='---', 2010-11_INC_SUM='---', 2013-14_CPI(M)_SUM='---', 2010-11_CPI(M)_SUM='---', 2011-12_CPI(M)_SUM='---', 2005-06_CPI_SUM='---', 2007-08_CPI_SUM='---', 2006-07_CPI_SUM='---', 2008-09_CPI_SUM='---', 2004-05_CPI_SUM='---', 2003-04_CPI_SUM='---', 2011-12_CPI_SUM='---', 2012-13_CPI_SUM='---', 2014-15_CPI_SUM='---', 2013-14_CPI_SUM='---', 2003-04_INC_SUM='---', 2012-13_CPI(M)_SUM='---', Cash_count_LTD='33', Bank_count_LTD='---', Cheque_count_LTD='---', Others_count_LTD='---', CPI_COUNT_LTD=42, CPI(M)_COUNT_LTD=0, INC_COUNT_LTD=0, BJP_COUNT_LTD=0, CPI_AVG_LTD=366048.1904761905, CPI(M)_AVG_LTD=0.0, INC_AVG_LTD=0.0, BJP_AVG_LTD=0.0, CPI_MAX_LTD=3000000, CPI(M)_MAX_LTD=0, INC_MAX_LTD=0, BJP_MAX_LTD=0)"
            ]
          },
          "metadata": {},
          "execution_count": 54
        }
      ],
      "source": [
        "data.collect()[0]"
      ]
    },
    {
      "cell_type": "code",
      "execution_count": 55,
      "metadata": {
        "id": "e-4pI-Lu0tMM"
      },
      "outputs": [],
      "source": [
        "data.write.parquet(\"parquetnp.json\")"
      ]
    },
    {
      "cell_type": "code",
      "source": [
        ""
      ],
      "metadata": {
        "id": "VL3lKv0g1zjy"
      },
      "execution_count": null,
      "outputs": []
    }
  ],
  "metadata": {
    "kernelspec": {
      "display_name": "Python 3.9.13 64-bit",
      "language": "python",
      "name": "python3"
    },
    "language_info": {
      "codemirror_mode": {
        "name": "ipython",
        "version": 3
      },
      "file_extension": ".py",
      "mimetype": "text/x-python",
      "name": "python",
      "nbconvert_exporter": "python",
      "pygments_lexer": "ipython3",
      "version": "3.9.13"
    },
    "orig_nbformat": 4,
    "vscode": {
      "interpreter": {
        "hash": "907dc573d29342c460f9eac9b7ebcdaf17024aebec3ba11e01e2484d78354bb6"
      }
    },
    "colab": {
      "name": "national_party.ipynb",
      "provenance": [],
      "collapsed_sections": []
    }
  },
  "nbformat": 4,
  "nbformat_minor": 0
}